{
  "nbformat": 4,
  "nbformat_minor": 0,
  "metadata": {
    "colab": {
      "provenance": []
    },
    "kernelspec": {
      "name": "python3",
      "display_name": "Python 3"
    },
    "language_info": {
      "name": "python"
    }
  },
  "cells": [
    {
      "cell_type": "code",
      "execution_count": 13,
      "metadata": {
        "id": "dzsyjwAqpUNX"
      },
      "outputs": [],
      "source": [
        "import pandas as pd\n",
        "from sklearn.model_selection import train_test_split\n",
        "from sklearn.linear_model import LinearRegression\n",
        "from sklearn.preprocessing import LabelEncoder\n",
        "from sklearn.metrics import accuracy_score\n",
        "\n"
      ]
    },
    {
      "cell_type": "code",
      "source": [
        "# Load the dataset\n",
        "df = pd.read_csv('/content/drive/MyDrive/user_user_wo_toefl_score.csv')\n",
        "\n",
        "# Filter out rows where 'admit' is not equal to 0\n",
        "filtered_df = df[df['admit'] != 0]"
      ],
      "metadata": {
        "id": "rnfvlW_OpZ-Z"
      },
      "execution_count": 14,
      "outputs": []
    },
    {
      "cell_type": "code",
      "source": [
        "\n",
        "# List of columns to remove\n",
        "columns_to_remove = ['userName', 'major', 'univName', 'admit', 'researchExp', 'industryExp', 'internExp', 'journalPubs', 'confPubs']\n",
        "\n",
        "# Remove the specified columns\n",
        "filtered_df_x = filtered_df.drop(columns=columns_to_remove, axis=1)\n",
        "filtered_df_y = filtered_df['univName']\n",
        "\n"
      ],
      "metadata": {
        "id": "TaHZ9lg2pkTH"
      },
      "execution_count": 15,
      "outputs": []
    },
    {
      "cell_type": "code",
      "source": [
        "import numpy as np\n",
        "\n",
        "# Replace infinity values with a large finite value\n",
        "filtered_df_x[np.isinf(filtered_df_x)] = np.finfo(np.float64).max\n",
        "\n",
        "# Scale or normalize your input features to handle large values\n",
        "# Example:\n",
        "from sklearn.preprocessing import MinMaxScaler\n",
        "scaler = MinMaxScaler()\n",
        "input_features_scaled = scaler.fit_transform(filtered_df_x)\n"
      ],
      "metadata": {
        "id": "F-eKYcb2qH8i"
      },
      "execution_count": 16,
      "outputs": []
    },
    {
      "cell_type": "code",
      "source": [
        "from sklearn.preprocessing import LabelEncoder\n",
        "\n",
        "# Initialize the label encoder\n",
        "label_encoder = LabelEncoder()\n",
        "\n",
        "# Fit and transform the labels\n",
        "Y_encoded = label_encoder.fit_transform(filtered_df_y)"
      ],
      "metadata": {
        "id": "2LG1pIeTqah3"
      },
      "execution_count": 21,
      "outputs": []
    },
    {
      "cell_type": "code",
      "source": [
        "# Encode categorical variables if any\n",
        "#label_encoder = LabelEncoder()\n",
        "#filtered_df_x['degree'] = label_encoder.fit_transform(filtered_df_x['degree'])\n",
        "\n",
        "# Split the dataset into training and testing sets\n",
        "X_train, X_test, y_train, y_test = train_test_split(input_features_scaled,  Y_encoded, test_size=0.2, random_state=42)\n",
        "\n"
      ],
      "metadata": {
        "id": "sqOHltdFpl7C"
      },
      "execution_count": 22,
      "outputs": []
    },
    {
      "cell_type": "code",
      "source": [
        "X_train"
      ],
      "metadata": {
        "colab": {
          "base_uri": "https://localhost:8080/"
        },
        "id": "KFTD3OYZp2kU",
        "outputId": "0b90bdbe-0b63-42c0-ee1d-073aaabf64da"
      },
      "execution_count": 23,
      "outputs": [
        {
          "output_type": "execute_result",
          "data": {
            "text/plain": [
              "array([[7.12500000e-001, 9.55419580e-001, 3.58348145e-309],\n",
              "       [9.00000000e-001, 9.58041958e-001, 4.66152973e-309],\n",
              "       [7.37500000e-001, 9.70279720e-001, 5.46811901e-309],\n",
              "       ...,\n",
              "       [9.29411765e-001, 9.65034965e-001, 3.89387925e-309],\n",
              "       [9.05882353e-001, 9.37062937e-001, 4.77278343e-309],\n",
              "       [9.58823529e-001, 9.72027972e-001, 4.65596705e-309]])"
            ]
          },
          "metadata": {},
          "execution_count": 23
        }
      ]
    },
    {
      "cell_type": "code",
      "source": [],
      "metadata": {
        "id": "rrwVuK6DqE-9"
      },
      "execution_count": null,
      "outputs": []
    },
    {
      "cell_type": "code",
      "source": [
        "# Train the linear regression model\n",
        "model = LinearRegression()\n",
        "model.fit(X_train, y_train)\n",
        "\n",
        "# Predict on the test set\n",
        "y_pred = model.predict(X_test)\n",
        "\n",
        "# Evaluate the model's performance (accuracy in this case)\n",
        "accuracy = model.score(X_test, y_test)\n",
        "print(\"Accuracy:\", accuracy)"
      ],
      "metadata": {
        "colab": {
          "base_uri": "https://localhost:8080/"
        },
        "id": "2E1TFiLspo2M",
        "outputId": "7de16500-b1b3-4117-d9fd-792c0639bcdb"
      },
      "execution_count": 24,
      "outputs": [
        {
          "output_type": "stream",
          "name": "stdout",
          "text": [
            "Accuracy: 0.0037430500835644587\n"
          ]
        }
      ]
    }
  ]
}